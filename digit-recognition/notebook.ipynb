{
 "cells": [
  {
   "cell_type": "code",
   "execution_count": 1,
   "id": "initial_id",
   "metadata": {
    "ExecuteTime": {
     "end_time": "2024-06-07T21:47:25.795354Z",
     "start_time": "2024-06-07T21:47:24.574389Z"
    }
   },
   "outputs": [
    {
     "name": "stderr",
     "output_type": "stream",
     "text": [
      "2024-06-07 23:47:24.815860: I tensorflow/core/util/port.cc:113] oneDNN custom operations are on. You may see slightly different numerical results due to floating-point round-off errors from different computation orders. To turn them off, set the environment variable `TF_ENABLE_ONEDNN_OPTS=0`.\n",
      "2024-06-07 23:47:24.816082: I external/local_tsl/tsl/cuda/cudart_stub.cc:32] Could not find cuda drivers on your machine, GPU will not be used.\n",
      "2024-06-07 23:47:24.818325: I external/local_tsl/tsl/cuda/cudart_stub.cc:32] Could not find cuda drivers on your machine, GPU will not be used.\n",
      "2024-06-07 23:47:24.844648: I tensorflow/core/platform/cpu_feature_guard.cc:210] This TensorFlow binary is optimized to use available CPU instructions in performance-critical operations.\n",
      "To enable the following instructions: AVX2 AVX_VNNI FMA, in other operations, rebuild TensorFlow with the appropriate compiler flags.\n",
      "2024-06-07 23:47:25.319719: W tensorflow/compiler/tf2tensorrt/utils/py_utils.cc:38] TF-TRT Warning: Could not find TensorRT\n"
     ]
    }
   ],
   "source": [
    "import tensorflow as tf\n",
    "import numpy as np\n",
    "import random\n",
    "import matplotlib.pyplot as plt\n",
    "import tkinter as tk\n",
    "from draw_digit import DrawingApp\n",
    "from tensorflow.keras.datasets import mnist\n",
    "from tensorflow.keras.utils import to_categorical"
   ]
  },
  {
   "cell_type": "code",
   "execution_count": 2,
   "id": "35af8ef0727d54d2",
   "metadata": {
    "collapsed": false,
    "ExecuteTime": {
     "end_time": "2024-06-07T21:47:26.690668Z",
     "start_time": "2024-06-07T21:47:26.548907Z"
    }
   },
   "outputs": [],
   "source": [
    "(x_train, y_train), (x_test_raw, y_test) = mnist.load_data()"
   ]
  },
  {
   "cell_type": "code",
   "outputs": [],
   "source": [
    "def plot_digit(image):\n",
    "    image = np.clip(image, 0, 255).astype(np.uint8)\n",
    "    plt.imshow(image, cmap='gray', vmin=0, vmax=255)\n",
    "    plt.axis('off')\n",
    "    plt.show()"
   ],
   "metadata": {
    "collapsed": false,
    "ExecuteTime": {
     "end_time": "2024-06-07T21:47:26.826919Z",
     "start_time": "2024-06-07T21:47:26.824187Z"
    }
   },
   "id": "9fe0eef0c30c1f9e",
   "execution_count": 3
  },
  {
   "cell_type": "code",
   "outputs": [
    {
     "data": {
      "text/plain": "<Figure size 640x480 with 1 Axes>",
      "image/png": "[encoded data removed]"
     },
     "metadata": {},
     "output_type": "display_data"
    }
   ],
   "source": [
    "plot_digit(x_train[12551])"
   ],
   "metadata": {
    "collapsed": false,
    "ExecuteTime": {
     "end_time": "2024-06-07T21:47:27.015069Z",
     "start_time": "2024-06-07T21:47:26.979713Z"
    }
   },
   "id": "950d9699b7af2b7b",
   "execution_count": 4
  },
  {
   "cell_type": "code",
   "execution_count": 5,
   "id": "95858fb8b4449d72",
   "metadata": {
    "collapsed": false,
    "ExecuteTime": {
     "end_time": "2024-06-07T21:47:27.357176Z",
     "start_time": "2024-06-07T21:47:27.129614Z"
    }
   },
   "outputs": [],
   "source": [
    "x_train = np.reshape(x_train, (x_train.shape[0], 28*28))\n",
    "x_train = np.hstack([x_train, np.ones((x_train.shape[0], 1))]) / 255"
   ]
  },
  {
   "cell_type": "code",
   "execution_count": 6,
   "id": "b816051857769636",
   "metadata": {
    "collapsed": false,
    "ExecuteTime": {
     "end_time": "2024-06-07T21:47:27.362044Z",
     "start_time": "2024-06-07T21:47:27.358145Z"
    }
   },
   "outputs": [],
   "source": [
    "y_train = to_categorical(y_train, num_classes=10)"
   ]
  },
  {
   "cell_type": "code",
   "execution_count": 7,
   "id": "8d840965716cf5ce",
   "metadata": {
    "collapsed": false,
    "ExecuteTime": {
     "end_time": "2024-06-07T21:47:27.426344Z",
     "start_time": "2024-06-07T21:47:27.403470Z"
    }
   },
   "outputs": [],
   "source": [
    "x_test = np.reshape(x_test_raw, (x_test_raw.shape[0], 28*28))\n",
    "x_test = np.hstack([x_test, np.ones((x_test.shape[0], 1))]) / 255"
   ]
  },
  {
   "cell_type": "code",
   "execution_count": 8,
   "id": "690363fd9753e4a9",
   "metadata": {
    "collapsed": false,
    "ExecuteTime": {
     "end_time": "2024-06-07T21:47:27.700723Z",
     "start_time": "2024-06-07T21:47:27.697653Z"
    }
   },
   "outputs": [],
   "source": [
    "input_size = 784\n",
    "output_size = 10\n",
    "weights = np.random.normal(0, 0.01, (input_size, output_size))\n",
    "biases = np.zeros((1, output_size))\n",
    "weights = np.vstack([weights, biases])"
   ]
  },
  {
   "cell_type": "code",
   "execution_count": 9,
   "id": "97a9779f91af82c5",
   "metadata": {
    "collapsed": false,
    "ExecuteTime": {
     "end_time": "2024-06-07T21:47:27.883599Z",
     "start_time": "2024-06-07T21:47:27.879888Z"
    }
   },
   "outputs": [],
   "source": [
    "def softmax(Z):\n",
    "    Z_shifted = Z - np.max(Z, axis=1, keepdims=True)\n",
    "    exp_scores = np.exp(Z_shifted)\n",
    "    softmax_scores = exp_scores / np.sum(exp_scores, axis=1, keepdims=True)\n",
    "    return softmax_scores"
   ]
  },
  {
   "cell_type": "code",
   "execution_count": 10,
   "id": "7d3fc9799e0f4d1b",
   "metadata": {
    "collapsed": false,
    "ExecuteTime": {
     "end_time": "2024-06-07T21:47:28.062244Z",
     "start_time": "2024-06-07T21:47:28.059707Z"
    }
   },
   "outputs": [],
   "source": [
    "def xentropy(S, T):\n",
    "    cross_entropy = -np.sum(T * np.log(S)) / T.shape[0]\n",
    "    return cross_entropy"
   ]
  },
  {
   "cell_type": "code",
   "execution_count": 11,
   "id": "3014dace5e8f0aaa",
   "metadata": {
    "collapsed": false,
    "ExecuteTime": {
     "end_time": "2024-06-07T21:47:28.254332Z",
     "start_time": "2024-06-07T21:47:28.250134Z"
    }
   },
   "outputs": [],
   "source": [
    "def grad_xentropy(X, S, T):\n",
    "    return (X.T @ (S - T)) / T.shape[0]"
   ]
  },
  {
   "cell_type": "code",
   "execution_count": 42,
   "id": "aca448ea23400d68",
   "metadata": {
    "collapsed": false,
    "ExecuteTime": {
     "end_time": "2024-06-08T00:34:24.693872Z",
     "start_time": "2024-06-08T00:34:24.690919Z"
    }
   },
   "outputs": [],
   "source": [
    "def gradient_descent(W, X, T, steps, learning_rate, lam):\n",
    "    n = T.shape[0]\n",
    "    for i in range(steps):\n",
    "        if i % 5000 == 1:\n",
    "            print(\"Step: \", i, \" Current cost: \", xentropy(S, T) + ((-0.00000498*i + lam)/(2 * n)) * np.sum(W**2))\n",
    "            \n",
    "        S = softmax(X @ W)\n",
    "        gradient = grad_xentropy(X, S, T) + ((-0.00000498*i + lam) * W) / n\n",
    "        W = W - (-0.000095*i + learning_rate) * gradient\n",
    "    \n",
    "    return W"
   ]
  },
  {
   "cell_type": "code",
   "execution_count": 43,
   "id": "450a59abb7745392",
   "metadata": {
    "collapsed": false,
    "ExecuteTime": {
     "end_time": "2024-06-08T00:34:34.177929Z",
     "start_time": "2024-06-08T00:34:34.174312Z"
    }
   },
   "outputs": [],
   "source": [
    "def calculate_accuracy(W, X, labels):\n",
    "    correct = 0\n",
    "    stats = [[0, 0] for _ in range(10)]\n",
    "    S = softmax(X @ W)\n",
    "    predicted_labels = np.argmax(S, axis=1)\n",
    "    for i in range(len(labels)):\n",
    "        if predicted_labels[i] == labels[i]:\n",
    "            correct += 1\n",
    "            stats[labels[i]][0] += 1\n",
    "        \n",
    "        stats[labels[i]][1] += 1\n",
    "    \n",
    "    classes = np.zeros((1, 10))\n",
    "    for i in range(10):\n",
    "        classes[0, i] = (stats[i][0] / stats[i][1])\n",
    "    \n",
    "    accuracy = 100 * correct / len(labels)\n",
    "    return accuracy, classes, predicted_labels"
   ]
  },
  {
   "cell_type": "code",
   "execution_count": 44,
   "id": "9e1a55f25b092d8e",
   "metadata": {
    "collapsed": false,
    "ExecuteTime": {
     "end_time": "2024-06-08T04:02:56.731996Z",
     "start_time": "2024-06-08T00:34:39.698400Z"
    }
   },
   "outputs": [
    {
     "name": "stdout",
     "output_type": "stream",
     "text": [
      "Step:  1  Current cost:  2.295871005285811\n",
      "Step:  5001  Current cost:  0.7431943804626353\n",
      "Step:  10001  Current cost:  0.5271163627054347\n",
      "Step:  15001  Current cost:  0.5696895731385277\n",
      "Step:  20001  Current cost:  0.48316810425130086\n",
      "Step:  25001  Current cost:  1.6859968155518381\n",
      "Step:  30001  Current cost:  0.40855258445537795\n",
      "Step:  35001  Current cost:  0.3832624539390418\n",
      "Step:  40001  Current cost:  0.35952838438038087\n",
      "Step:  45001  Current cost:  2.4130210147611506\n",
      "Step:  50001  Current cost:  0.31533635361204043\n",
      "Step:  55001  Current cost:  4.02921394614176\n",
      "Step:  60001  Current cost:  0.4455561224555698\n",
      "Step:  65001  Current cost:  0.25508717063890385\n",
      "Step:  70001  Current cost:  0.25166272508951987\n",
      "Step:  75001  Current cost:  0.23500166916924892\n",
      "Step:  80001  Current cost:  0.22506336006418243\n",
      "Step:  85001  Current cost:  0.2217275011988743\n",
      "Step:  90001  Current cost:  0.2199726775306912\n",
      "Step:  95001  Current cost:  0.21851662866628685\n"
     ]
    }
   ],
   "source": [
    "trained_weights = gradient_descent(weights, x_train, y_train, 100000, 10.0, 0.5)"
   ]
  },
  {
   "cell_type": "code",
   "execution_count": 45,
   "id": "9215839e43b07865",
   "metadata": {
    "collapsed": false,
    "ExecuteTime": {
     "end_time": "2024-06-08T11:20:00.685413Z",
     "start_time": "2024-06-08T11:20:00.659686Z"
    }
   },
   "outputs": [],
   "source": [
    "overall_accuracy, classes_accuracy, predictions = calculate_accuracy(trained_weights, x_test, y_test)"
   ]
  },
  {
   "cell_type": "code",
   "execution_count": 46,
   "id": "42d4e5311a308919",
   "metadata": {
    "collapsed": false,
    "ExecuteTime": {
     "end_time": "2024-06-08T11:20:01.448806Z",
     "start_time": "2024-06-08T11:20:01.445928Z"
    }
   },
   "outputs": [
    {
     "name": "stdout",
     "output_type": "stream",
     "text": [
      "92.31\n"
     ]
    }
   ],
   "source": [
    "print(overall_accuracy)"
   ]
  },
  {
   "cell_type": "code",
   "outputs": [],
   "source": [
    "np.savetxt('92_31.txt', trained_weights)"
   ],
   "metadata": {
    "collapsed": false,
    "ExecuteTime": {
     "end_time": "2024-06-08T11:20:26.897988Z",
     "start_time": "2024-06-08T11:20:26.889378Z"
    }
   },
   "id": "92aa7e4728943264",
   "execution_count": 47
  },
  {
   "cell_type": "code",
   "outputs": [],
   "source": [
    "def plot_probabilities(data, title):\n",
    "    flattened_data = data.flatten()\n",
    "    plt.bar(range(len(flattened_data)), flattened_data)\n",
    "    plt.xlabel('Index')\n",
    "    plt.ylabel('Value')\n",
    "    plt.title(title)\n",
    "    plt.xticks(range(len(flattened_data)))\n",
    "    plt.show()"
   ],
   "metadata": {
    "collapsed": false,
    "ExecuteTime": {
     "end_time": "2024-06-08T11:20:33.287685Z",
     "start_time": "2024-06-08T11:20:33.283160Z"
    }
   },
   "id": "8c2a9c8ba814d629",
   "execution_count": 48
  },
  {
   "cell_type": "code",
   "outputs": [
    {
     "data": {
      "text/plain": "<Figure size 640x480 with 1 Axes>",
      "image/png": "[encoded data removed]"
     },
     "metadata": {},
     "output_type": "display_data"
    }
   ],
   "source": [
    "plot_probabilities(classes_accuracy, \"Accuracy for individual digits\")"
   ],
   "metadata": {
    "collapsed": false,
    "ExecuteTime": {
     "end_time": "2024-06-08T11:20:34.180197Z",
     "start_time": "2024-06-08T11:20:34.111600Z"
    }
   },
   "id": "3b296a3eee13f6d4",
   "execution_count": 49
  },
  {
   "cell_type": "code",
   "outputs": [],
   "source": [
    "def take_random_digit(pred, test, correct):\n",
    "    random_index = random.randint(0, 9999)\n",
    "    plot_digit(test[random_index])\n",
    "    print(\"This digit is a \", correct[random_index])\n",
    "    print(\"Classified as \", pred[random_index])"
   ],
   "metadata": {
    "collapsed": false,
    "ExecuteTime": {
     "end_time": "2024-06-08T11:20:43.908025Z",
     "start_time": "2024-06-08T11:20:43.904886Z"
    }
   },
   "id": "5fbd9ca92c885700",
   "execution_count": 50
  },
  {
   "cell_type": "code",
   "outputs": [
    {
     "data": {
      "text/plain": "<Figure size 640x480 with 1 Axes>",
      "image/png": "[encoded data removed]"
     },
     "metadata": {},
     "output_type": "display_data"
    },
    {
     "name": "stdout",
     "output_type": "stream",
     "text": [
      "This digit is a  3\n",
      "Classified as  3\n"
     ]
    }
   ],
   "source": [
    "take_random_digit(predictions, x_test_raw, y_test)"
   ],
   "metadata": {
    "collapsed": false,
    "ExecuteTime": {
     "end_time": "2024-06-08T16:01:19.443541Z",
     "start_time": "2024-06-08T16:01:19.414650Z"
    }
   },
   "id": "f40ec2b6199b8c7e",
   "execution_count": 96
  },
  {
   "cell_type": "code",
   "outputs": [],
   "source": [
    "def classify_digit(W, X):\n",
    "    S = softmax(X @ W)\n",
    "    return S"
   ],
   "metadata": {
    "collapsed": false,
    "ExecuteTime": {
     "end_time": "2024-06-08T11:20:53.833990Z",
     "start_time": "2024-06-08T11:20:53.831393Z"
    }
   },
   "id": "debb8a7c9d202598",
   "execution_count": 52
  },
  {
   "cell_type": "markdown",
   "source": [
    "# Funkcja do rysowania cyfr"
   ],
   "metadata": {
    "collapsed": false
   },
   "id": "6269ec534fb90524"
  },
  {
   "cell_type": "code",
   "outputs": [],
   "source": [
    "def draw():\n",
    "    root = tk.Tk()\n",
    "    app = DrawingApp(root)\n",
    "    root.mainloop()\n",
    "    digit = app.get_array()\n",
    "    plot_digit(digit)\n",
    "    flattened = digit.flatten()\n",
    "    result = np.append(flattened, 1).reshape(1, -1) / 255\n",
    "    \n",
    "    plot_probabilities(classify_digit(trained_weights, result), \"Probabilities\")"
   ],
   "metadata": {
    "collapsed": false,
    "ExecuteTime": {
     "end_time": "2024-06-08T11:20:54.634838Z",
     "start_time": "2024-06-08T11:20:54.631866Z"
    }
   },
   "id": "f53dc5dbe138b8c2",
   "execution_count": 53
  },
  {
   "cell_type": "code",
   "outputs": [
    {
     "data": {
      "text/plain": "<Figure size 640x480 with 1 Axes>",
      "image/png": "[encoded data removed]"
     },
     "metadata": {},
     "output_type": "display_data"
    },
    {
     "data": {
      "text/plain": "<Figure size 640x480 with 1 Axes>",
      "image/png": "[encoded data removed]"
     },
     "metadata": {},
     "output_type": "display_data"
    }
   ],
   "source": [
    "draw()"
   ],
   "metadata": {
    "collapsed": false,
    "ExecuteTime": {
     "end_time": "2024-06-08T16:01:32.604049Z",
     "start_time": "2024-06-08T16:01:27.588307Z"
    }
   },
   "id": "535fe8a2357df9ab",
   "execution_count": 97
  }
 ],
 "metadata": {
  "kernelspec": {
   "display_name": "Python 3 (ipykernel)",
   "language": "python",
   "name": "python3"
  },
  "language_info": {
   "codemirror_mode": {
    "name": "ipython",
    "version": 3
   },
   "file_extension": ".py",
   "mimetype": "text/x-python",
   "name": "python",
   "nbconvert_exporter": "python",
   "pygments_lexer": "ipython3",
   "version": "3.11.6"
  }
 },
 "nbformat": 4,
 "nbformat_minor": 5
}
