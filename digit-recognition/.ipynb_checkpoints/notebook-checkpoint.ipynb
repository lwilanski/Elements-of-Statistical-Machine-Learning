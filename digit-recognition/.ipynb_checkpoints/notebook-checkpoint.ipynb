{
 "cells": [
  {
   "cell_type": "code",
   "execution_count": 54,
   "id": "initial_id",
   "metadata": {
    "collapsed": true,
    "ExecuteTime": {
     "end_time": "2024-06-07T00:15:11.067854Z",
     "start_time": "2024-06-07T00:15:11.064034Z"
    }
   },
   "outputs": [],
   "source": [
    "import tensorflow as tf\n",
    "import numpy as np\n",
    "from tensorflow.keras.datasets import mnist\n",
    "from tensorflow.keras.utils import to_categorical"
   ]
  },
  {
   "cell_type": "code",
   "outputs": [],
   "source": [
    "(x_train, y_train), (x_test, y_test) = mnist.load_data()"
   ],
   "metadata": {
    "collapsed": false,
    "ExecuteTime": {
     "end_time": "2024-06-07T00:15:11.433990Z",
     "start_time": "2024-06-07T00:15:11.278897Z"
    }
   },
   "id": "35af8ef0727d54d2",
   "execution_count": 55
  },
  {
   "cell_type": "code",
   "outputs": [],
   "source": [
    "x_train = np.reshape(x_train, (x_train.shape[0], 28*28))\n",
    "x_train = np.hstack([x_train, np.ones((x_train.shape[0], 1))])"
   ],
   "metadata": {
    "collapsed": false,
    "ExecuteTime": {
     "end_time": "2024-06-07T00:15:11.599338Z",
     "start_time": "2024-06-07T00:15:11.475017Z"
    }
   },
   "id": "95858fb8b4449d72",
   "execution_count": 56
  },
  {
   "cell_type": "code",
   "outputs": [],
   "source": [
    "y_train = to_categorical(y_train, num_classes=10)"
   ],
   "metadata": {
    "collapsed": false,
    "ExecuteTime": {
     "end_time": "2024-06-07T00:15:11.677581Z",
     "start_time": "2024-06-07T00:15:11.671353Z"
    }
   },
   "id": "b816051857769636",
   "execution_count": 57
  },
  {
   "cell_type": "code",
   "outputs": [],
   "source": [
    "x_test = np.reshape(x_test, (x_test.shape[0], 28*28))\n",
    "x_test = np.hstack([x_test, np.ones((x_test.shape[0], 1))])"
   ],
   "metadata": {
    "collapsed": false,
    "ExecuteTime": {
     "end_time": "2024-06-07T00:15:11.925421Z",
     "start_time": "2024-06-07T00:15:11.898816Z"
    }
   },
   "id": "8d840965716cf5ce",
   "execution_count": 58
  },
  {
   "cell_type": "code",
   "outputs": [],
   "source": [
    "weights = np.ones((785, 10))"
   ],
   "metadata": {
    "collapsed": false,
    "ExecuteTime": {
     "end_time": "2024-06-07T00:21:36.500785Z",
     "start_time": "2024-06-07T00:21:36.496687Z"
    }
   },
   "id": "690363fd9753e4a9",
   "execution_count": 81
  },
  {
   "cell_type": "code",
   "outputs": [],
   "source": [
    "def softmax(Z):\n",
    "    Z_shifted = Z - np.max(Z, axis=1, keepdims=True)\n",
    "    exp_scores = np.exp(Z_shifted)\n",
    "    softmax_scores = exp_scores / np.sum(exp_scores, axis=1, keepdims=True)\n",
    "    return softmax_scores"
   ],
   "metadata": {
    "collapsed": false,
    "ExecuteTime": {
     "end_time": "2024-06-07T00:21:36.810443Z",
     "start_time": "2024-06-07T00:21:36.806647Z"
    }
   },
   "id": "97a9779f91af82c5",
   "execution_count": 82
  },
  {
   "cell_type": "code",
   "outputs": [],
   "source": [
    "def xentropy(S, T):\n",
    "    epsilon = 1e-16\n",
    "    cross_entropy = -np.sum(T * np.log(S + epsilon)) / T.shape[0]\n",
    "    return cross_entropy"
   ],
   "metadata": {
    "collapsed": false,
    "ExecuteTime": {
     "end_time": "2024-06-07T00:22:42.986972Z",
     "start_time": "2024-06-07T00:22:42.984179Z"
    }
   },
   "id": "7d3fc9799e0f4d1b",
   "execution_count": 95
  },
  {
   "cell_type": "code",
   "outputs": [],
   "source": [
    "def grad_xentropy(X, S, T):\n",
    "    return (X.T @ (S - T)) / T.shape[0]"
   ],
   "metadata": {
    "collapsed": false,
    "ExecuteTime": {
     "end_time": "2024-06-07T00:24:33.033385Z",
     "start_time": "2024-06-07T00:24:33.029995Z"
    }
   },
   "id": "3014dace5e8f0aaa",
   "execution_count": 100
  },
  {
   "cell_type": "code",
   "outputs": [],
   "source": [
    "def gradient_descent(W, X, T, steps, learning_rate, lam):\n",
    "    n = T.shape[0]\n",
    "    for i in range(steps):\n",
    "        if i % 50 == 1:\n",
    "            print(\"Step: \", i, \" Current cost: \", xentropy(S, T) + (lam/(2 * n)) * np.sum(W**2))\n",
    "            \n",
    "        S = softmax(X @ W)\n",
    "        gradient = grad_xentropy(X, S, T) + (lam * W) / n\n",
    "        W = W - learning_rate * gradient\n",
    "    \n",
    "    return W"
   ],
   "metadata": {
    "collapsed": false,
    "ExecuteTime": {
     "end_time": "2024-06-07T00:33:26.423035Z",
     "start_time": "2024-06-07T00:33:26.419816Z"
    }
   },
   "id": "aca448ea23400d68",
   "execution_count": 111
  },
  {
   "cell_type": "code",
   "outputs": [],
   "source": [
    "def calculate_accuracy(W, X, labels):\n",
    "    S = softmax(X @ W)\n",
    "    predicted_labels = np.argmax(S, axis=1)\n",
    "    accuracy = np.mean(predicted_labels == labels) * 100\n",
    "    return accuracy"
   ],
   "metadata": {
    "collapsed": false,
    "ExecuteTime": {
     "end_time": "2024-06-07T00:28:41.618831Z",
     "start_time": "2024-06-07T00:28:41.615128Z"
    }
   },
   "id": "450a59abb7745392",
   "execution_count": 107
  },
  {
   "cell_type": "code",
   "outputs": [
    {
     "name": "stdout",
     "output_type": "stream",
     "text": [
      "Step:  0  Current cost:  2.5964055345074653\n",
      "Step:  50  Current cost:  10.624754486679631\n",
      "Step:  100  Current cost:  16.585979702055468\n",
      "Step:  150  Current cost:  13.346947744241845\n",
      "Step:  200  Current cost:  14.535787465605083\n",
      "Step:  250  Current cost:  11.215400542111007\n",
      "Step:  300  Current cost:  13.712668681594176\n",
      "Step:  350  Current cost:  16.945012466219463\n",
      "Step:  400  Current cost:  17.657572635948327\n",
      "Step:  450  Current cost:  11.938546857372199\n",
      "Step:  500  Current cost:  12.880045349561033\n",
      "Step:  550  Current cost:  12.28152345448076\n",
      "Step:  600  Current cost:  21.159296362382378\n",
      "Step:  650  Current cost:  24.806473582520127\n",
      "Step:  700  Current cost:  14.021136598667127\n",
      "Step:  750  Current cost:  13.25806594410281\n",
      "Step:  800  Current cost:  13.493170617127566\n",
      "Step:  850  Current cost:  14.159660848673505\n",
      "Step:  900  Current cost:  22.93944911510271\n",
      "Step:  950  Current cost:  14.479596130437598\n"
     ]
    }
   ],
   "source": [
    "trained_weights = gradient_descent(weights, x_train, y_train, 1000, 10.0, 0.005)"
   ],
   "metadata": {
    "collapsed": false,
    "ExecuteTime": {
     "end_time": "2024-06-07T00:30:39.579740Z",
     "start_time": "2024-06-07T00:28:42.696714Z"
    }
   },
   "id": "9e1a55f25b092d8e",
   "execution_count": 108
  },
  {
   "cell_type": "code",
   "outputs": [],
   "source": [
    "overall_accuracy = calculate_accuracy(trained_weights, x_test, y_test)"
   ],
   "metadata": {
    "collapsed": false,
    "ExecuteTime": {
     "end_time": "2024-06-07T00:30:41.480172Z",
     "start_time": "2024-06-07T00:30:41.463566Z"
    }
   },
   "id": "9215839e43b07865",
   "execution_count": 109
  },
  {
   "cell_type": "code",
   "outputs": [
    {
     "name": "stdout",
     "output_type": "stream",
     "text": [
      "91.91\n"
     ]
    }
   ],
   "source": [
    "print(overall_accuracy)"
   ],
   "metadata": {
    "collapsed": false,
    "ExecuteTime": {
     "end_time": "2024-06-07T00:30:42.482295Z",
     "start_time": "2024-06-07T00:30:42.479130Z"
    }
   },
   "id": "42d4e5311a308919",
   "execution_count": 110
  },
  {
   "cell_type": "code",
   "outputs": [],
   "source": [],
   "metadata": {
    "collapsed": false
   },
   "id": "eaea21b29be476d1"
  }
 ],
 "metadata": {
  "kernelspec": {
   "display_name": "Python 3",
   "language": "python",
   "name": "python3"
  },
  "language_info": {
   "codemirror_mode": {
    "name": "ipython",
    "version": 2
   },
   "file_extension": ".py",
   "mimetype": "text/x-python",
   "name": "python",
   "nbconvert_exporter": "python",
   "pygments_lexer": "ipython2",
   "version": "2.7.6"
  }
 },
 "nbformat": 4,
 "nbformat_minor": 5
}
